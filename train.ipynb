{
 "cells": [
  {
   "cell_type": "code",
   "execution_count": 9,
   "metadata": {},
   "outputs": [
    {
     "name": "stdout",
     "output_type": "stream",
     "text": [
      "Accuracy: 0.0\n",
      "Predicted Behavior: Excitable\n"
     ]
    }
   ],
   "source": [
    "import pandas as pd\n",
    "from sklearn.model_selection import train_test_split\n",
    "from sklearn.ensemble import RandomForestClassifier\n",
    "from sklearn.metrics import accuracy_score\n",
    "\n",
    "# 1. CSV 파일 불러오기\n",
    "cat_data = pd.read_csv(r'C:\\Projects\\Python_basic\\최종프로젝트\\cat_personality_traits.csv')\n",
    "\n",
    "# 2. 입력(X)과 출력(y) 설정\n",
    "# X는 성격 요소 (Neuroticism, Extraversion, Dominance, Impulsiveness, Agreeableness)\n",
    "# y는 고양이의 행동 (예: aggressive, friendly, curious)\n",
    "X = cat_data[['Neuroticism', 'Extraversion', 'Dominance', 'Impulsiveness', 'Agreeableness']]\n",
    "y = cat_data['Item']\n",
    "\n",
    "# 3. 학습 데이터와 테스트 데이터 분할\n",
    "X_train, X_test, y_train, y_test = train_test_split(X, y, test_size=0.2, random_state=42)\n",
    "\n",
    "# 4. 랜덤 포레스트 분류 모델 생성 및 학습\n",
    "model = RandomForestClassifier()\n",
    "model.fit(X_train, y_train)\n",
    "\n",
    "# 5. 테스트 데이터로 예측 수행\n",
    "y_pred = model.predict(X_test)\n",
    "\n",
    "# 6. 모델 성능 평가\n",
    "accuracy = accuracy_score(y_test, y_pred)\n",
    "print(f'Accuracy: {accuracy}')\n",
    "\n",
    "# 7. 새로운 성격 요소로 행동 예측 (예시)\n",
    "def predict_behavior(model, neuroticism, extraversion, dominance, impulsiveness, agreeableness):\n",
    "    # 입력값을 데이터프레임으로 변환\n",
    "    new_data = pd.DataFrame({\n",
    "        'Neuroticism': [neuroticism],\n",
    "        'Extraversion': [extraversion],\n",
    "        'Dominance': [dominance],\n",
    "        'Impulsiveness': [impulsiveness],\n",
    "        'Agreeableness': [agreeableness]\n",
    "    })\n",
    "\n",
    "    # 모델을 사용해 행동 예측\n",
    "    predicted_behavior = model.predict(new_data)\n",
    "    return predicted_behavior[0]\n",
    "\n",
    "# 8. 사용자가 성격 요소를 입력해서 행동 예측\n",
    "# 예시 입력: 신경질적 성향 0.7, 외향성 0.3, 지배성 0.2, 충동성 0.4, 우호성 0.5\n",
    "predicted_behavior = predict_behavior(model, 0.5, 0.5, 0.2, 0.4, 0.5)\n",
    "print(f'Predicted Behavior: {predicted_behavior}')\n"
   ]
  },
  {
   "cell_type": "code",
   "execution_count": 26,
   "metadata": {},
   "outputs": [
    {
     "name": "stdout",
     "output_type": "stream",
     "text": [
      "Predicted Behavior: Anxious\n"
     ]
    },
    {
     "name": "stderr",
     "output_type": "stream",
     "text": [
      "c:\\Users\\Admin\\miniconda3\\envs\\gumi_env310\\lib\\site-packages\\sklearn\\metrics\\_classification.py:1509: UndefinedMetricWarning: Precision is ill-defined and being set to 0.0 in labels with no predicted samples. Use `zero_division` parameter to control this behavior.\n",
      "  _warn_prf(average, modifier, f\"{metric.capitalize()} is\", len(result))\n",
      "c:\\Users\\Admin\\miniconda3\\envs\\gumi_env310\\lib\\site-packages\\sklearn\\metrics\\_classification.py:1509: UndefinedMetricWarning: Recall is ill-defined and being set to 0.0 in labels with no true samples. Use `zero_division` parameter to control this behavior.\n",
      "  _warn_prf(average, modifier, f\"{metric.capitalize()} is\", len(result))\n",
      "c:\\Users\\Admin\\miniconda3\\envs\\gumi_env310\\lib\\site-packages\\sklearn\\metrics\\_classification.py:1509: UndefinedMetricWarning: Precision is ill-defined and being set to 0.0 in labels with no predicted samples. Use `zero_division` parameter to control this behavior.\n",
      "  _warn_prf(average, modifier, f\"{metric.capitalize()} is\", len(result))\n",
      "c:\\Users\\Admin\\miniconda3\\envs\\gumi_env310\\lib\\site-packages\\sklearn\\metrics\\_classification.py:1509: UndefinedMetricWarning: Recall is ill-defined and being set to 0.0 in labels with no true samples. Use `zero_division` parameter to control this behavior.\n",
      "  _warn_prf(average, modifier, f\"{metric.capitalize()} is\", len(result))\n",
      "c:\\Users\\Admin\\miniconda3\\envs\\gumi_env310\\lib\\site-packages\\sklearn\\metrics\\_classification.py:1509: UndefinedMetricWarning: Precision is ill-defined and being set to 0.0 in labels with no predicted samples. Use `zero_division` parameter to control this behavior.\n",
      "  _warn_prf(average, modifier, f\"{metric.capitalize()} is\", len(result))\n",
      "c:\\Users\\Admin\\miniconda3\\envs\\gumi_env310\\lib\\site-packages\\sklearn\\metrics\\_classification.py:1509: UndefinedMetricWarning: Recall is ill-defined and being set to 0.0 in labels with no true samples. Use `zero_division` parameter to control this behavior.\n",
      "  _warn_prf(average, modifier, f\"{metric.capitalize()} is\", len(result))\n",
      "c:\\Users\\Admin\\miniconda3\\envs\\gumi_env310\\lib\\site-packages\\sklearn\\base.py:493: UserWarning: X does not have valid feature names, but RandomForestClassifier was fitted with feature names\n",
      "  warnings.warn(\n"
     ]
    }
   ],
   "source": [
    "import pandas as pd\n",
    "import numpy as np\n",
    "from sklearn.model_selection import train_test_split\n",
    "from sklearn.ensemble import RandomForestClassifier\n",
    "from sklearn.preprocessing import LabelEncoder\n",
    "from sklearn.metrics import accuracy_score, classification_report\n",
    "\n",
    "# Load the augmented CSV file\n",
    "file_path = r'C:\\Projects\\Python_basic\\최종프로젝트\\Augmented_Cat_Personality_Traits_Data.csv'\n",
    "cat_data = pd.read_csv(file_path)\n",
    "\n",
    "# Encoding the 'Item' column which contains categorical data\n",
    "label_encoder = LabelEncoder()\n",
    "cat_data['Item'] = label_encoder.fit_transform(cat_data['Item'])\n",
    "\n",
    "# Split the data into features and target variable\n",
    "X = cat_data.drop(columns=['Item'])\n",
    "y = cat_data['Item']\n",
    "\n",
    "# Split the data into training and testing sets\n",
    "X_train, X_test, y_train, y_test = train_test_split(X, y, test_size=0.2, random_state=42)\n",
    "\n",
    "# Train a Random Forest Classifier to predict cat behavior\n",
    "model = RandomForestClassifier(n_estimators=100, random_state=42)\n",
    "model.fit(X_train, y_train)\n",
    "\n",
    "# Make predictions on the test set\n",
    "y_pred = model.predict(X_test)\n",
    "\n",
    "# Evaluate the model\n",
    "accuracy = accuracy_score(y_test, y_pred)\n",
    "report = classification_report(y_test, y_pred)\n",
    "\n",
    "# print(f\"Accuracy: {accuracy * 100:.2f}%\")\n",
    "# print(\"Classification Report:\\n\", report)\n",
    "\n",
    "# Example usage: Predicting the behavior type based on personality trait inputs\n",
    "example_input = np.array([[0.75, -0.10, 0.00, 0.05, -0.10]])  # Example personality traits\n",
    "predicted_behavior = label_encoder.inverse_transform(model.predict(example_input))\n",
    "print(\"Predicted Behavior:\", predicted_behavior[0])\n"
   ]
  },
  {
   "cell_type": "code",
   "execution_count": null,
   "metadata": {},
   "outputs": [],
   "source": []
  }
 ],
 "metadata": {
  "kernelspec": {
   "display_name": "gumi_env310",
   "language": "python",
   "name": "python3"
  },
  "language_info": {
   "codemirror_mode": {
    "name": "ipython",
    "version": 3
   },
   "file_extension": ".py",
   "mimetype": "text/x-python",
   "name": "python",
   "nbconvert_exporter": "python",
   "pygments_lexer": "ipython3",
   "version": "3.10.14"
  }
 },
 "nbformat": 4,
 "nbformat_minor": 2
}
