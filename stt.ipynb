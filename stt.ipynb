{
 "cells": [
  {
   "cell_type": "code",
   "execution_count": 4,
   "metadata": {},
   "outputs": [
    {
     "name": "stdout",
     "output_type": "stream",
     "text": [
      "녹음 시작...\n",
      "녹음 종료.\n",
      "인식된 텍스트: カーナーターは\n"
     ]
    }
   ],
   "source": [
    "import torch\n",
    "import soundfile as sf\n",
    "import pyaudio\n",
    "import wave\n",
    "from transformers import pipeline\n",
    "\n",
    "# 1. Whisper 모델 로드\n",
    "device = \"cuda\" if torch.cuda.is_available() else \"cpu\"\n",
    "stt_pipeline = pipeline(\"automatic-speech-recognition\", model=\"openai/whisper-small\", device=device)\n",
    "\n",
    "# 2. 음성 녹음 함수\n",
    "def record_audio(filename, duration=5, sample_rate=16000):\n",
    "    p = pyaudio.PyAudio()\n",
    "    stream = p.open(format=pyaudio.paInt16, channels=1, rate=sample_rate, input=True, frames_per_buffer=1024)\n",
    "\n",
    "    print(\"녹음 시작...\")\n",
    "    frames = []\n",
    "\n",
    "    for _ in range(0, int(sample_rate / 1024 * duration)):\n",
    "        data = stream.read(1024)\n",
    "        frames.append(data)\n",
    "\n",
    "    print(\"녹음 종료.\")\n",
    "\n",
    "    stream.stop_stream()\n",
    "    stream.close()\n",
    "    p.terminate()\n",
    "\n",
    "    wf = wave.open(filename, 'wb')\n",
    "    wf.setnchannels(1)\n",
    "    wf.setsampwidth(p.get_sample_size(pyaudio.paInt16))\n",
    "    wf.setframerate(sample_rate)\n",
    "    wf.writeframes(b''.join(frames))\n",
    "    wf.close()\n",
    "\n",
    "# 3. 녹음한 파일을 텍스트로 변환\n",
    "def audio_to_text(audio_path):\n",
    "    # 오디오 파일 로드\n",
    "    audio_input, _ = sf.read(audio_path)\n",
    "    # STT 수행\n",
    "    result = stt_pipeline(audio_input)[\"text\"]\n",
    "    print(f\"인식된 텍스트: {result}\")\n",
    "\n",
    "# 4. 실행 예제\n",
    "if __name__ == \"__main__\":\n",
    "    audio_filename = \"output.wav\"\n",
    "    record_audio(audio_filename, duration=5)  # 5초간 녹음\n",
    "    audio_to_text(audio_filename)  # 텍스트 변환\n"
   ]
  },
  {
   "cell_type": "code",
   "execution_count": null,
   "metadata": {},
   "outputs": [],
   "source": []
  }
 ],
 "metadata": {
  "kernelspec": {
   "display_name": "gumi_env310",
   "language": "python",
   "name": "python3"
  },
  "language_info": {
   "codemirror_mode": {
    "name": "ipython",
    "version": 3
   },
   "file_extension": ".py",
   "mimetype": "text/x-python",
   "name": "python",
   "nbconvert_exporter": "python",
   "pygments_lexer": "ipython3",
   "version": "3.10.14"
  }
 },
 "nbformat": 4,
 "nbformat_minor": 2
}
